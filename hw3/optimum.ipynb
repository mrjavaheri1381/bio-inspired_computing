{
 "cells": [
  {
   "attachments": {},
   "cell_type": "markdown",
   "metadata": {},
   "source": [
    "# Particle Swarm Optimization (PSO) for Maximizing a Function\n",
    "\n",
    "## Introduction:\n",
    "This code implements the Particle Swarm Optimization (PSO) algorithm to find the maximum point of a given function. PSO is a metaheuristic optimization algorithm inspired by the collective behavior of bird flocking or fish schooling. It is particularly suitable for continuous optimization problems.\n",
    "\n",
    "## Problem Statement:\n",
    "The goal is to find the maximum point of a function. The algorithm aims to find the input parameters that yield the highest fitness value.\n",
    "\n",
    "## PSO Algorithm Overview:\n",
    "1. Particle Initialization: Create a swarm of particles with random positions and velocities within specified bounds.\n",
    "2. Fitness Evaluation: Calculate the fitness of each particle's position using the provided fitness function.\n",
    "3. Global Best Initialization: Select the particle with the highest fitness as the global best (gbest).\n",
    "4. Particle Movement and Update: Update particle velocities and positions based on previous best positions, the global best, and random factors.\n",
    "5. Fitness Update and Global Best Update: Update particle fitness and their best positions if a better solution is found. Update the global best if a better solution than the current best is discovered.\n",
    "6. Termination Condition: Terminate the algorithm when a target fitness value is reached or a maximum number of iterations is reached.\n",
    "\n",
    "## Results and Analysis:\n",
    "The PSO algorithm iteratively explores the search space by updating particle positions and velocities. The algorithm converges towards the maximum point of the function by continuously updating the global best. The number of particles in the swarm plays a crucial role in the algorithm's convergence. Increasing the number of particles can enhance the exploration and exploitation capabilities of the algorithm, potentially leading to better solutions.\n",
    "\n",
    "## Conclusion:\n",
    "The implemented PSO algorithm effectively finds the maximum point of a given function. By maintaining a swarm of particles and utilizing their positions and velocities, the algorithm explores the solution space and converges towards the highest fitness value. Increasing the number of particles in the swarm can improve the algorithm's convergence and the quality of the obtained solution. Further experimentation and parameter tuning, including adjusting the number of particles, can be performed to optimize the algorithm's performance on different functions. The PSO algorithm can be adapted for various optimization problems by modifying the fitness function and code accordingly."
   ]
  },
  {
   "cell_type": "code",
   "execution_count": 2,
   "metadata": {},
   "outputs": [],
   "source": [
    "import numpy as np\n",
    "from numpy.linalg import norm\n",
    "import matplotlib.lines as lines\n",
    "import matplotlib.pyplot as plt"
   ]
  },
  {
   "cell_type": "code",
   "execution_count": 3,
   "metadata": {},
   "outputs": [],
   "source": [
    "def direction(a,b):\n",
    "    if(norm(a-b)==0) :return np.array([0,0])\n",
    "    return (b-a)/norm(b-a)"
   ]
  },
  {
   "cell_type": "code",
   "execution_count": 4,
   "metadata": {},
   "outputs": [],
   "source": [
    "# Import the random module for generating random values\n",
    "\n",
    "import random\n",
    "\n",
    "\n",
    "def fitness(position):\n",
    "    # Define the fitness function to calculate the fitness of a given position\n",
    "    # Modify this function based on the specific problem you are trying to solve\n",
    "    x = position[0]\n",
    "    y = position[1]\n",
    "    return abs(np.sin(x)*np.cos(y)*np.exp(abs(1-np.sqrt(x**2+y**2)/np.pi)))\n",
    "\n",
    "\n",
    "class Particle:\n",
    "    def __init__(self, position, velocity, best_fitness):\n",
    "        # Initialize a particle with its position, velocity, and best fitness\n",
    "        self.positions=[position]\n",
    "        self.position = position\n",
    "        self.velocity = velocity\n",
    "        self.best_position = position\n",
    "        self.best_fitness = best_fitness\n",
    "\n",
    "\n",
    "def pso(swarm_size, target, dimensions, min_bound, max_bound, c1=0.7, c2=0.9):\n",
    "    swarm = []\n",
    "    for _ in range(swarm_size):\n",
    "        # Initialize particles with random positions and velocities within specified bounds\n",
    "        position = np.array([random.uniform(min_bound, max_bound) for _ in range(dimensions)])\n",
    "        velocity = np.array([random.uniform(-1, 1) for _ in range(dimensions)])\n",
    "        swarm.append(Particle(position, velocity, fitness(position)))\n",
    "\n",
    "    gbest = swarm[0]\n",
    "\n",
    "    while gbest.best_fitness < target:\n",
    "        # Perform PSO iterations until the target fitness is reached\n",
    "\n",
    "        for particle in swarm:\n",
    "            particle:Particle\n",
    "\n",
    "            # Update particle velocity using the PSO equation\n",
    "            particle.velocity = (\n",
    "                c1 * direction(particle.position, particle.best_position) +\n",
    "                c2 * direction(particle.position, gbest.best_position) +\n",
    "                random.uniform(-1, 1)\n",
    "            )\n",
    "\n",
    "            # Update particle position based on the velocity\n",
    "            particle.position = particle.position + particle.velocity\n",
    "            particle.positions.append(particle.position)\n",
    "\n",
    "            # Ensure particle positions are within the specified bounds\n",
    "            while particle.position[0] < -10:\n",
    "                particle.position[0] += random.uniform(0.1, 1)\n",
    "            while particle.position[1] > 10:\n",
    "                particle.position[1] = random.uniform(0.1, 1)\n",
    "            while particle.position[1] < -10:\n",
    "                particle.position[1] += random.uniform(0.1, 1)\n",
    "            while particle.position[0] > 10:\n",
    "                particle.position[0] = random.uniform(0.1, 1)\n",
    "\n",
    "            # Calculate the fitness of the new position\n",
    "            new_fitness = fitness(particle.position)\n",
    "\n",
    "            # Update particle's best position and fitness if necessary\n",
    "            if new_fitness > particle.best_fitness:\n",
    "                particle.best_position = particle.position\n",
    "                particle.best_fitness = new_fitness\n",
    "\n",
    "            # Update global best position and fitness if necessary\n",
    "            if particle.best_fitness > gbest.best_fitness:\n",
    "                gbest = particle\n",
    "                # print(gbest.best_fitness, gbest.position)\n",
    "\n",
    "    return gbest\n",
    "\n",
    "\n",
    "\n",
    "\n",
    "best_particle = pso(swarm_size=300, target=19.2, dimensions=2, min_bound=-10, max_bound=10, c1=1, c2=2)\n"
   ]
  },
  {
   "cell_type": "code",
   "execution_count": 5,
   "metadata": {},
   "outputs": [
    {
     "ename": "NameError",
     "evalue": "name 'f' is not defined",
     "output_type": "error",
     "traceback": [
      "\u001b[0;31m---------------------------------------------------------------------------\u001b[0m",
      "\u001b[0;31mNameError\u001b[0m                                 Traceback (most recent call last)",
      "\u001b[1;32m/Users/mrjavaheri/Desktop/term4/genetic calculations /hw3/optimum.ipynb Cell 5\u001b[0m in \u001b[0;36m<module>\u001b[0;34m\u001b[0m\n\u001b[1;32m      <a href='vscode-notebook-cell:/Users/mrjavaheri/Desktop/term4/genetic%20calculations%20/hw3/optimum.ipynb#W4sZmlsZQ%3D%3D?line=1'>2</a>\u001b[0m y \u001b[39m=\u001b[39m np\u001b[39m.\u001b[39mlinspace(\u001b[39m-\u001b[39m\u001b[39m10\u001b[39m, \u001b[39m10\u001b[39m, \u001b[39m50\u001b[39m)\n\u001b[1;32m      <a href='vscode-notebook-cell:/Users/mrjavaheri/Desktop/term4/genetic%20calculations%20/hw3/optimum.ipynb#W4sZmlsZQ%3D%3D?line=2'>3</a>\u001b[0m X, Y \u001b[39m=\u001b[39m np\u001b[39m.\u001b[39mmeshgrid(x, y)\n\u001b[0;32m----> <a href='vscode-notebook-cell:/Users/mrjavaheri/Desktop/term4/genetic%20calculations%20/hw3/optimum.ipynb#W4sZmlsZQ%3D%3D?line=3'>4</a>\u001b[0m Z \u001b[39m=\u001b[39m f(X, Y)\n\u001b[1;32m      <a href='vscode-notebook-cell:/Users/mrjavaheri/Desktop/term4/genetic%20calculations%20/hw3/optimum.ipynb#W4sZmlsZQ%3D%3D?line=4'>5</a>\u001b[0m fig \u001b[39m=\u001b[39m plt\u001b[39m.\u001b[39mfigure()\n\u001b[1;32m      <a href='vscode-notebook-cell:/Users/mrjavaheri/Desktop/term4/genetic%20calculations%20/hw3/optimum.ipynb#W4sZmlsZQ%3D%3D?line=5'>6</a>\u001b[0m ax \u001b[39m=\u001b[39m plt\u001b[39m.\u001b[39maxes(projection\u001b[39m=\u001b[39m\u001b[39m'\u001b[39m\u001b[39m3d\u001b[39m\u001b[39m'\u001b[39m)\n",
      "\u001b[0;31mNameError\u001b[0m: name 'f' is not defined"
     ]
    }
   ],
   "source": [
    "\n",
    "x = np.linspace(-10, 10, 50)\n",
    "y = np.linspace(-10, 10, 50)\n",
    "X, Y = np.meshgrid(x, y)\n",
    "Z = f(X, Y)\n",
    "fig = plt.figure()\n",
    "ax = plt.axes(projection='3d')\n",
    "ax.contour3D(X, Y, Z, 50, cmap='binary')\n",
    "ax.set_xlabel('x')\n",
    "ax.set_ylabel('y')\n",
    "ax.set_zlabel('z')\n",
    "\n"
   ]
  }
 ],
 "metadata": {
  "kernelspec": {
   "display_name": "Python 3",
   "language": "python",
   "name": "python3"
  },
  "language_info": {
   "codemirror_mode": {
    "name": "ipython",
    "version": 3
   },
   "file_extension": ".py",
   "mimetype": "text/x-python",
   "name": "python",
   "nbconvert_exporter": "python",
   "pygments_lexer": "ipython3",
   "version": "3.9.6"
  },
  "orig_nbformat": 4
 },
 "nbformat": 4,
 "nbformat_minor": 2
}
