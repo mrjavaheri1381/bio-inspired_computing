{
 "cells": [
  {
   "attachments": {},
   "cell_type": "markdown",
   "metadata": {},
   "source": [
    "# Report on Solving the Traveling Salesman Problem with Simulated Annealing\n",
    "\n",
    "## 1. Introduction\n",
    "The Traveling Salesman Problem (TSP) is a classic optimization problem in computer science that seeks to find the shortest possible route that a salesman can take to visit a given set of cities and return to the starting point. The problem becomes increasingly complex as the number of cities increases, making it computationally challenging to find the optimal solution. In this report, we present a Python implementation of a Simulated Annealing (SA) algorithm to solve the TSP.\n",
    "\n",
    "## 2. Algorithm Overview\n",
    "The SA algorithm is a metaheuristic optimization technique inspired by the annealing process in metallurgy. It aims to simulate the physical process of slowly cooling a material to decrease defects and obtain the most favorable atomic arrangement. Similarly, the SA algorithm searches for an optimal solution by iteratively exploring the solution space, allowing for occasional uphill moves to escape local optima.\n",
    "\n",
    "## 3. Code Explanation\n",
    "The provided Python code implements the SA algorithm to solve the TSP. Let's break down the key components and their functionalities:\n",
    "\n",
    "- **openFile(file)**: This function reads a file containing the TSP data and returns a list of points, where each point represents a city and its coordinates.\n",
    "\n",
    "- **calculate_distances(points)**: This function calculates the distances between each pair of cities based on their coordinates. It returns a distance matrix, where distances[i][j] represents the distance between city i and city j.\n",
    "\n",
    "- **calculate_cost(points, distances)**: This function calculates the cost of a given solution (i.e., a sequence of cities) based on the distances between them. The cost represents the total distance traveled in the TSP route.\n",
    "\n",
    "- **move_neighboring_solution(points, distances, temperature)**: This function generates a neighboring solution by swapping two cities in the current solution. The swap is performed with a probability determined by the temperature parameter and the change in cost. If the new solution is better or satisfies the acceptance probability, the swap is accepted.\n",
    "\n",
    "- **SA(file, target, initial_temperature, cooling_rate)**: This is the main SA algorithm implementation. It takes the file path, a target cost, the initial temperature, and the cooling rate as input parameters. It initializes the algorithm by opening the file, calculating distances, and shuffling the initial solution randomly. Then, it iteratively performs the SA algorithm, adjusting the temperature and exploring neighboring solutions until either the target cost is reached or the temperature drops to zero. It returns the final solution (sequence of cities), the number of iterations, a list of temperatures over time, and a list of costs over time.\n",
    "\n",
    "## 4. Usage Example\n",
    "In the provided code, the SA algorithm is applied to solve the TSP using the `pr1002.tsp` dataset. The target cost is set to 1,000,000, the initial temperature is set to 1000, and the cooling rate is set to 0.99. The results are stored in the variable `res`.\n",
    "\n"
   ]
  },
  {
   "cell_type": "code",
   "execution_count": 35,
   "metadata": {},
   "outputs": [],
   "source": [
    "import math\n",
    "import random\n",
    "import matplotlib.pyplot as plt\n",
    "import numpy as np"
   ]
  },
  {
   "cell_type": "code",
   "execution_count": 3,
   "metadata": {},
   "outputs": [],
   "source": [
    "def openFile(file):\n",
    "    with open(file) as f:\n",
    "        lines=f.read().split('\\n')[:-1]\n",
    "        points=[]\n",
    "        flag=False\n",
    "        for line in lines:\n",
    "            if(line=='EOF'):break\n",
    "            if(flag):\n",
    "                points.append(list(map(float,line.split()[1:])))\n",
    "            if(line=='NODE_COORD_SECTION'):\n",
    "                flag=True\n",
    "    return [(points[i],i) for i in range(len(points))]"
   ]
  },
  {
   "cell_type": "code",
   "execution_count": 4,
   "metadata": {},
   "outputs": [],
   "source": [
    "def calculate_distances(points):\n",
    "    distances=[[0 for _ in range(len(points))] for _ in range(len(points))]\n",
    "    for i in range(len(points)-1):\n",
    "        for j in range(i+1,len(points)):\n",
    "            distance=(math.dist(points[i][0],points[j][0]))\n",
    "            distances[i][j]=distance\n",
    "            distances[j][i]=distance\n",
    "    return distances"
   ]
  },
  {
   "cell_type": "code",
   "execution_count": 5,
   "metadata": {},
   "outputs": [],
   "source": [
    "def calculate_cost(points,distances):\n",
    "    cost=0\n",
    "    for i in range(len(points)-1):\n",
    "        cost+=distances[points[i][1]][points[i+1][1]]\n",
    "    return cost"
   ]
  },
  {
   "cell_type": "code",
   "execution_count": 6,
   "metadata": {},
   "outputs": [],
   "source": [
    "def move_neighboring_solution(points,distances,temperature):\n",
    "    i, j = random.sample(range(1,len(points)-1),2)\n",
    "    while abs(i-j)==1:\n",
    "        i, j = random.sample(range(1,len(points)-1),2)\n",
    "    dif = 0\n",
    "    dif -=(distances[points[i-1][1]][points[i][1]]+distances[points[i][1]][points[i+1][1]])\n",
    "    dif -= (distances[points[j-1][1]][points[j][1]]+distances[points[j][1]][points[j+1][1]])\n",
    "    dif += (distances[points[i-1][1]][points[j][1]]+distances[points[j][1]][points[i+1][1]])\n",
    "    dif += (distances[points[j-1][1]][points[i][1]]+distances[points[i][1]][points[j+1][1]])\n",
    "    if(dif<0 or math.exp(-dif/(temperature*10)) > random.random()):\n",
    "        points[i],points[j]=points[j],points[i]\n",
    "        return dif \n",
    "    return 0"
   ]
  },
  {
   "cell_type": "code",
   "execution_count": 52,
   "metadata": {},
   "outputs": [],
   "source": [
    "def SA(file,target,initial_temperature,cooling_rate):\n",
    "    points=openFile(file)\n",
    "    distances=calculate_distances(points)\n",
    "    random.shuffle(points)\n",
    "    cost=calculate_cost(points,distances)\n",
    "    temperature=initial_temperature\n",
    "    iterations=0\n",
    "    temperatures=[]\n",
    "    costs=[]\n",
    "    while cost>target and temperature>0:\n",
    "        for _ in range(1000):\n",
    "            cost+=move_neighboring_solution(points,distances,temperature)\n",
    "        costs.append(cost)\n",
    "        temperatures.append(temperature)\n",
    "        iterations+=1\n",
    "        temperature *= cooling_rate\n",
    "    return (points),iterations,temperatures,costs\n"
   ]
  },
  {
   "cell_type": "code",
   "execution_count": 38,
   "metadata": {},
   "outputs": [],
   "source": [
    "res=SA('./pr1002.tsp',1000000,1000,0.99)"
   ]
  },
  {
   "cell_type": "code",
   "execution_count": 39,
   "metadata": {},
   "outputs": [
    {
     "data": {
      "image/png": "[encoded data removed]",
      "text/plain": [
       "<Figure size 432x288 with 1 Axes>"
      ]
     },
     "metadata": {
      "needs_background": "light"
     },
     "output_type": "display_data"
    }
   ],
   "source": [
    "X = np.arange(0, res[1], 1)\n",
    "y = res[3]\n",
    "plt.plot(X, y, color='r', label='temperature')\n",
    "plt.xlabel(\"Iteration\")\n",
    "plt.ylabel(\"Cost\")\n",
    "plt.legend()\n",
    "plt.show()\n"
   ]
  },
  {
   "cell_type": "code",
   "execution_count": 54,
   "metadata": {},
   "outputs": [],
   "source": [
    "res2 = SA('./gr229.tsp',2300,400,0.99)"
   ]
  },
  {
   "cell_type": "code",
   "execution_count": 55,
   "metadata": {},
   "outputs": [
    {
     "data": {
      "image/png": "[encoded data removed]",
      "text/plain": [
       "<Figure size 432x288 with 1 Axes>"
      ]
     },
     "metadata": {
      "needs_background": "light"
     },
     "output_type": "display_data"
    }
   ],
   "source": [
    "X = np.arange(0, res2[1], 1)\n",
    "y = res2[3]\n",
    "plt.plot(X, y, color='r', label='temperature')\n",
    "plt.xlabel(\"Iteration\")\n",
    "plt.ylabel(\"Cost\")\n",
    "plt.legend()\n",
    "plt.show()\n"
   ]
  }
 ],
 "metadata": {
  "kernelspec": {
   "display_name": "Python 3",
   "language": "python",
   "name": "python3"
  },
  "language_info": {
   "codemirror_mode": {
    "name": "ipython",
    "version": 3
   },
   "file_extension": ".py",
   "mimetype": "text/x-python",
   "name": "python",
   "nbconvert_exporter": "python",
   "pygments_lexer": "ipython3",
   "version": "3.9.6"
  },
  "orig_nbformat": 4
 },
 "nbformat": 4,
 "nbformat_minor": 2
}
