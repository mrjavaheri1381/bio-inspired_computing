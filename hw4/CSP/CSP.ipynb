{
 "cells": [
  {
   "attachments": {},
   "cell_type": "markdown",
   "metadata": {},
   "source": [
    "# Report: Solving the Cutting Stock Problem with Simulated Annealing\n",
    "\n",
    "## Problem Description\n",
    "Given a set of requested item lengths and the length of available stock materials, the objective is to find an optimal allocation that minimizes waste. The cutting stock problem can be mathematically formulated as an integer linear programming problem, where the decision variables represent the number of cuts made for each item.\n",
    "\n",
    "## Algorithm: Simulated Annealing (SA)\n",
    "\n",
    "The SA algorithm consists of the following steps:\n",
    "1. Initialize the solution by allocating items(Greedy) to the stock materials.\n",
    "2. Set an initial temperature and cooling rate.\n",
    "3. Iterate until a stopping criterion is met (e.g., temperature or a target fitness value):\n",
    "- **a**. Generate a neighboring solution by making a small modification to the current solution.\n",
    "- **b**. Calculate the acceptance probability for the neighboring solution.\n",
    "- **c**. If the neighboring solution is accepted, update the current solution.\n",
    "- **d**. Decrease the temperature according to the cooling rate.\n",
    "4. Output the best solution found during the iterations.\n",
    "\n",
    "## Implementation Details\n",
    "In our implementation, we have used the following components:\n",
    "- **OpenFile:** This function reads the input file and extracts the stock length and requested item lengths.\n",
    "- **Stock class:** This class represents a stock material and maintains a list of items allocated to it, as well as the remaining space in the stock material.\n",
    "- **StockProb function:** This function calculates the probability of selecting a specific stock material for a given item based on the remaining space and item length.\n",
    "- **generate_neighboring_solution function:** This function generates a neighboring solution by randomly selecting two stock materials and exchanging items between them.\n",
    "- **checkRes function:** This function checks if all stock materials have non-negative space, indicating a valid solution.\n",
    "- **acceptance_probability function:** This function calculates the probability of accepting a neighboring solution based on the difference in fitness scores between the current and neighboring solutions and the current temperature.\n",
    "- **InitialStocks function:** This function initializes the stock materials by allocating requested items to them based on the StockProb function.\n",
    "\n",
    "\n",
    "## Impact of Temperature\n",
    "The temperature parameter in the simulated annealing algorithm has a significant impact on the search process. A higher temperature allows for more exploration and randomness in the search, preventing the algorithm from getting stuck in local minima. As the temperature decreases over iterations, the algorithm gradually shifts towards a more exploitative search, converging towards an optimal or near-optimal solution. The cooling of temperature balances the algorithm's exploration and exploitation tendencies, enabling it to efficiently navigate the solution space and avoid being trapped in suboptimal solutions.\n",
    "\n",
    "## Can We Use a Linear Function for Temperature?\n",
    "An important consideration in the simulated annealing algorithm is the choice of temperature function. While the commonly used cooling schedules, such as exponential or logarithmic, have proven effective, it is worth exploring alternative approaches, such as a linear function for temperature. A linear temperature function could offer a more gradual and steady decrease in temperature over iterations. However, it may also lead to premature convergence or insufficient exploration of the solution space. Further experimentation and analysis would be necessary to determine the suitability of a linear temperature function for the cutting stock problem and its impact on the algorithm's performance.\n"
   ]
  },
  {
   "cell_type": "code",
   "execution_count": 93,
   "metadata": {},
   "outputs": [],
   "source": [
    "import math, random\n",
    "from copy import deepcopy"
   ]
  },
  {
   "cell_type": "code",
   "execution_count": 94,
   "metadata": {},
   "outputs": [],
   "source": [
    "def OpenFile(file):\n",
    "    f=open(file).readlines()\n",
    "    length=int(f[0].split()[2])\n",
    "    requests=list(map(int, f[3].replace(' ','').split(',')))\n",
    "    return length,requests"
   ]
  },
  {
   "cell_type": "code",
   "execution_count": 95,
   "metadata": {},
   "outputs": [],
   "source": [
    "class Stock:\n",
    "    def __init__(self,length) -> None:\n",
    "        self.requests=[]\n",
    "        self.space=length\n",
    "    def setForRequest(self,length,i):\n",
    "        self.requests.append(i)\n",
    "        self.space-=length\n",
    "    def fitness(self) -> int:\n",
    "        return 0 if self.space>0 else -self.space\n",
    "        \n",
    "        "
   ]
  },
  {
   "cell_type": "code",
   "execution_count": 96,
   "metadata": {},
   "outputs": [],
   "source": [
    "def StockProb(stock:Stock,request_len,length):\n",
    "    if(stock.space-request_len<-length/10):\n",
    "        return 0\n",
    "    return length/5+stock.space\n",
    "    "
   ]
  },
  {
   "cell_type": "code",
   "execution_count": 97,
   "metadata": {},
   "outputs": [],
   "source": [
    "def calculateFitness(stocks):\n",
    "    return sum([stock.fitness() for stock in stocks])"
   ]
  },
  {
   "cell_type": "code",
   "execution_count": 98,
   "metadata": {},
   "outputs": [],
   "source": [
    "first,second =0,0"
   ]
  },
  {
   "cell_type": "code",
   "execution_count": 99,
   "metadata": {},
   "outputs": [],
   "source": [
    "def generate_neighboring_solution(stocks,length,requests):\n",
    "    res=deepcopy(stocks)\n",
    "    try:\n",
    "        first=random.choices(res,[0 if stock.space>0 else -stock.space for stock in res])[0]\n",
    "        second=random.choices(res,[0 if stock.space<0 else stock.space for stock in res])[0]\n",
    "    except:\n",
    "        return stocks\n",
    "    first:Stock\n",
    "    second:Stock\n",
    "    req1=random.choices(first.requests,[length+requests[i] for i in first.requests])[0]\n",
    "    req2=random.choices(second.requests,[length-requests[i] for i in second.requests])[0]\n",
    "    first.requests.append(req2)\n",
    "    first.requests.remove(req1)\n",
    "    first.space-=requests[req2]\n",
    "    first.space+=requests[req1]\n",
    "    second.requests.append(req1)\n",
    "    second.requests.remove(req2)\n",
    "    second.space-=requests[req1]\n",
    "    second.space+=requests[req2] \n",
    "    return res"
   ]
  },
  {
   "cell_type": "code",
   "execution_count": 100,
   "metadata": {},
   "outputs": [],
   "source": [
    "def checkRes(stocks):\n",
    "    for stock in stocks:\n",
    "        stock:Stock\n",
    "        if(stock.space<0):\n",
    "            return False\n",
    "    return True"
   ]
  },
  {
   "cell_type": "code",
   "execution_count": 101,
   "metadata": {},
   "outputs": [],
   "source": [
    "def acceptance_probability(stocks,neighbor,temperature):\n",
    "    if(calculateFitness(stocks) > calculateFitness(neighbor)):\n",
    "        return 1\n",
    "    try:\n",
    "        return math.exp(((-calculateFitness(stocks) + calculateFitness(neighbor)/temperature)))\n",
    "    except:\n",
    "        return 0\n",
    "    "
   ]
  },
  {
   "cell_type": "code",
   "execution_count": 102,
   "metadata": {},
   "outputs": [],
   "source": [
    "def InitialStocks(target,requests,length):\n",
    "    stocks=[Stock(length) for _ in range(target)]\n",
    "    for i in range(len(requests)):\n",
    "        try:\n",
    "            selected = random.choices(range(len(stocks)),[StockProb(stock,requests[i],length) for stock in stocks])[0]\n",
    "        except:\n",
    "            return InitialStocks(target,requests,length)\n",
    "        stocks[selected].setForRequest(requests[i],i)\n",
    "    return [stock for stock in stocks if stock.requests]"
   ]
  },
  {
   "cell_type": "code",
   "execution_count": 103,
   "metadata": {},
   "outputs": [],
   "source": [
    "def SA(file,target,initial_temperature,cooling_rate):\n",
    "    length,requests=OpenFile(file)\n",
    "    stocks=InitialStocks(target,requests,length)\n",
    "    temperature=initial_temperature\n",
    "    while not checkRes(stocks) and temperature > 0 :\n",
    "        for _ in range(10):\n",
    "            neighbor=generate_neighboring_solution(stocks,length,requests)\n",
    "            if(acceptance_probability(stocks,neighbor,temperature) > random.random()):\n",
    "                stocks=neighbor\n",
    "        temperature*=cooling_rate\n",
    "    return stocks\n"
   ]
  },
  {
   "cell_type": "code",
   "execution_count": 104,
   "metadata": {},
   "outputs": [],
   "source": [
    "res1=SA('./input1.stock',52,1000,0.99)"
   ]
  },
  {
   "cell_type": "code",
   "execution_count": 105,
   "metadata": {},
   "outputs": [],
   "source": [
    "res2=SA('./input2.stock',90,1000,0.99)\n"
   ]
  },
  {
   "cell_type": "code",
   "execution_count": 106,
   "metadata": {},
   "outputs": [],
   "source": [
    "res3=SA('./input3.stock',110,1000,0.99)"
   ]
  },
  {
   "cell_type": "code",
   "execution_count": 109,
   "metadata": {},
   "outputs": [],
   "source": [
    "res4=SA('./input4.stock',230,1000,0.99)"
   ]
  }
 ],
 "metadata": {
  "kernelspec": {
   "display_name": "Python 3",
   "language": "python",
   "name": "python3"
  },
  "language_info": {
   "codemirror_mode": {
    "name": "ipython",
    "version": 3
   },
   "file_extension": ".py",
   "mimetype": "text/x-python",
   "name": "python",
   "nbconvert_exporter": "python",
   "pygments_lexer": "ipython3",
   "version": "3.9.6"
  },
  "orig_nbformat": 4
 },
 "nbformat": 4,
 "nbformat_minor": 2
}
