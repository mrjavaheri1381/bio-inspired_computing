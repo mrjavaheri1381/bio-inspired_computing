{
 "cells": [
  {
   "attachments": {},
   "cell_type": "markdown",
   "metadata": {},
   "source": [
    "# Ant Colony Algorithm for Set Cover Problem\n",
    "\n",
    "## Introduction\n",
    "This report presents an implementation of the Ant Colony Algorithm to solve the Set Cover Problem. \n",
    "\n",
    "## Algorithm Overview\n",
    "The implemented algorithm follows these main steps:\n",
    "\n",
    "1. **File Parsing:** The input file is parsed to extract information about the subsets, their costs, and the elements they cover. The subsets are represented using `bitarray` data structures, which provide fast and efficient operations for set manipulation.\n",
    "\n",
    "2. **Ant Initialization:** Each ant is initialized with a random subset from the available collection. The ant's costs are set to zero, and an empty list of selected subsets is created.\n",
    "\n",
    "3. **Ant Exploration:** Each ant explores the solution space by iteratively selecting subsets until all elements are covered. The selection process is based on the fitness of each subset, calculated using a combination of pheromone levels and the number of uncovered elements.\n",
    "\n",
    "4. **Pheromone Update:** After all ants have completed their exploration, the pheromone levels are updated based on the sets selected by each ant. Pheromones are deposited on each subset proportional to the inverse of the ant's costs. This update reinforces the selection of subsets that contribute to better solutions.\n",
    "\n",
    "5. **Evaporation of Pheromones:** To prevent the algorithm from getting stuck in suboptimal solutions, a pheromone evaporation process is applied. The pheromone levels for each subset are reduced based on an evaporation rate. This ensures exploration of a wider solution space and promotes diversity among ant solutions.\n",
    "\n",
    "\n",
    "## Benefits of Pheromone Placement and Bitarray Usage\n",
    "- **Pheromone Placement:** By placing pheromones on each subset, the algorithm encourages ants to select subsets that have been previously successful in finding good solutions. This exploitation of past knowledge guides the search towards potentially better solutions and accelerates convergence.\n",
    "\n",
    "- **Bitarray Usage:** The adoption of `bitarray` data structures offers significant advantages in terms of speed and efficient set operations. Bitarrays allow for fast manipulation of subsets, such as element-wise logical operations, counting the number of uncovered elements, and merging subsets with minimal computational overhead.\n",
    "\n",
    "- **Effect of Beta Parameter:** The `beta` parameter plays a role in balancing the exploration and exploitation aspects of the algorithm. A higher value of `beta` biases the selection process towards subsets with a larger number of uncovered elements, leading to a more greedy approach. This can result in faster convergence to a solution, especially when the optimal solution has subsets with a higher coverage. However, a very high value of `beta` may lead to premature convergence and suboptimal solutions. Hence, careful tuning of the `beta` parameter is necessary to strike a balance between exploration and exploitation while considering the characteristics of the problem at hand.\n",
    "\n",
    "In conclusion, the implementation of the Ant Colony Algorithm for the Set Cover Problem demonstrates the effective utilization of pheromones on subsets and the use of `bitarray` data structures to enhance the algorithm's efficiency. By leveraging these techniques, the algorithm can efficiently explore the solution space and converge to optimal or near-optimal solutions.\n"
   ]
  },
  {
   "cell_type": "code",
   "execution_count": 13,
   "metadata": {},
   "outputs": [],
   "source": [
    "from bitarray import bitarray\n",
    "import random\n"
   ]
  },
  {
   "cell_type": "code",
   "execution_count": 1,
   "metadata": {},
   "outputs": [],
   "source": [
    "def openFile(file):\n",
    "    # Read the file and extract necessary values\n",
    "    file = open(file).read()\n",
    "    nums = list(map(int, file.split()))\n",
    "    N1, N2 = nums[0], nums[1]\n",
    "    nums = nums[2:]\n",
    "    costs = [0 for _ in range(N2)]\n",
    "    subSets = [[False for _ in range(N1)] for _ in range(N2)]\n",
    "\n",
    "    # Extract costs for each subset\n",
    "    for i in range(N2):\n",
    "        costs[i] = nums[i]\n",
    "    nums = nums[N2:]\n",
    "    index = 0\n",
    "\n",
    "    # Extract subsets and their elements\n",
    "    for i in range(N1):\n",
    "        count = nums[index]\n",
    "        index += 1\n",
    "        for _ in range(count):\n",
    "            subSets[nums[index]-1][i] = True\n",
    "            index += 1\n",
    "\n",
    "    # Return subsets, costs, and indices as tuples\n",
    "    return [(bitarray(subSets[i]), costs[i], i) for i in range(N2)]"
   ]
  },
  {
   "cell_type": "code",
   "execution_count": 2,
   "metadata": {},
   "outputs": [],
   "source": [
    "class Ant:\n",
    "    def __init__(self, subsets) -> None:\n",
    "        # Initialize an ant with zero costs, an empty list of sets, and an empty bitarray for collected elements\n",
    "        self.costs = 0\n",
    "        self.sets = []\n",
    "        self.collected = bitarray([False for _ in range(1, len(list(subsets[0][0]))+1)])\n",
    "\n",
    "        # Choose a random subset and add it to the ant's sets\n",
    "        i = random.randint(0, len(subsets)-1)\n",
    "        self.addSet(subsets[i])\n",
    "\n",
    "    def addSet(self, set):\n",
    "        # Add a subset to the ant's sets and update collected elements and costs\n",
    "        self.sets.append(set[2])\n",
    "        self.collected |= set[0]\n",
    "        self.costs += set[1]\n",
    "\n",
    "    def putPheromone(self, pheromones):\n",
    "        # Update the pheromone levels based on the ant's sets and costs\n",
    "        for i in self.sets:\n",
    "            pheromones[i] += 1/self.costs\n",
    "        return len(self.sets)/self.costs"
   ]
  },
  {
   "cell_type": "code",
   "execution_count": 3,
   "metadata": {},
   "outputs": [],
   "source": [
    "def calculateFitness(ant: Ant, set, alpha, beta, pheromones):\n",
    "    # Calculate the fitness of a set for a given ant\n",
    "    if(set[2] in ant.sets):\n",
    "        return 0\n",
    "    addedCount = (~ant.collected & set[0]).count()\n",
    "    return (pheromones[set[2]]**alpha) * (addedCount/set[1])**beta"
   ]
  },
  {
   "cell_type": "code",
   "execution_count": 11,
   "metadata": {},
   "outputs": [],
   "source": [
    "def ant_colony(file, antNumber, alpha, beta, evaporation_rate, iterationNumber, target) -> Ant:\n",
    "    # Read subsets from the file\n",
    "    subSets = openFile(file)\n",
    "\n",
    "    # Initialize pheromone levels for subsets\n",
    "    pheromones = [0.1 for _ in range(len(subSets))]\n",
    "\n",
    "    # Run the ant colony algorithm for the specified number of iterations\n",
    "    for _ in range(iterationNumber):\n",
    "        # Create a list of ants\n",
    "        ants = [Ant(subSets) for _ in range(antNumber)]\n",
    "\n",
    "        # Iterate through each ant\n",
    "        for ant in ants:\n",
    "            ant: Ant\n",
    "\n",
    "            # Continue until all elements are collected by the ant\n",
    "            while not ant.collected.all():\n",
    "                # Choose the next set based on fitness and add it to the ant's sets\n",
    "                nextSet = random.choices(subSets, weights=[calculateFitness(ant, set, alpha, beta, pheromones) for set in subSets])[0]\n",
    "                ant.addSet(nextSet)\n",
    "\n",
    "            # Check if the ant's cost is less than or equal to the target\n",
    "            if ant.costs <= target:\n",
    "                return ant\n",
    "\n",
    "        # Update the pheromone levels of each ant\n",
    "        for ant in ants:\n",
    "            ant: Ant\n",
    "            ant.putPheromone(pheromones)\n",
    "\n",
    "        # Update pheromone levels for each subset based on evaporation rate\n",
    "        for i in range(len(subSets)):\n",
    "            pheromones[i] *= (1 - evaporation_rate)\n"
   ]
  },
  {
   "cell_type": "code",
   "execution_count": 15,
   "metadata": {},
   "outputs": [
    {
     "data": {
      "text/plain": [
       "499"
      ]
     },
     "execution_count": 15,
     "metadata": {},
     "output_type": "execute_result"
    }
   ],
   "source": [
    "ant_colony('./scp41.txt',100,1,5,0.4,100,500).costs"
   ]
  },
  {
   "cell_type": "code",
   "execution_count": 18,
   "metadata": {},
   "outputs": [
    {
     "data": {
      "text/plain": [
       "359"
      ]
     },
     "execution_count": 18,
     "metadata": {},
     "output_type": "execute_result"
    }
   ],
   "source": [
    "ant_colony('./scp52.txt',100,1,5,0.4,100,360).costs"
   ]
  },
  {
   "cell_type": "code",
   "execution_count": 16,
   "metadata": {},
   "outputs": [
    {
     "data": {
      "text/plain": [
       "194"
      ]
     },
     "execution_count": 16,
     "metadata": {},
     "output_type": "execute_result"
    }
   ],
   "source": [
    "ant_colony('./scp62.txt',100,1,5,0.4,100,200).costs"
   ]
  }
 ],
 "metadata": {
  "kernelspec": {
   "display_name": "Python 3",
   "language": "python",
   "name": "python3"
  },
  "language_info": {
   "codemirror_mode": {
    "name": "ipython",
    "version": 3
   },
   "file_extension": ".py",
   "mimetype": "text/x-python",
   "name": "python",
   "nbconvert_exporter": "python",
   "pygments_lexer": "ipython3",
   "version": "3.9.6"
  },
  "orig_nbformat": 4
 },
 "nbformat": 4,
 "nbformat_minor": 2
}
