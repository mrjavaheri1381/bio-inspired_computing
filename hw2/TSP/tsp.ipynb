{
 "cells": [
  {
   "attachments": {},
   "cell_type": "markdown",
   "metadata": {},
   "source": [
    "## Algorithm Overview\n",
    "The implemented algorithm follows these main steps:\n",
    "\n",
    "1. **Initialization:** The algorithm initializes the pheromone matrix with a small value for each city pair. Ants are generated and assigned a random starting city.\n",
    "\n",
    "2. **Ant Exploration:** Each ant explores the solution space by iteratively selecting the next city to visit. The selection process is based on the combination of pheromone levels, cost, and distance between cities. The probabilities of selecting each city are calculated using a fitness function that incorporates these metaheuristic parameters. It is important to note that the choice of metaheuristic parameters, such as the relative importance of cost and distance, can significantly influence the behavior of the algorithm. In some instances, when the cost parameter dominates, the algorithm may exhibit a more greedy-like behavior, favoring shorter paths. However, the inclusion of pheromone levels still allows for some level of exploration in the solution space.\n",
    "\n",
    "3. **Pheromone Update:** After each ant has completed its tour, the pheromone levels are updated based on the tour length. Ants deposit pheromones on the edges of the tour, with the amount proportional to the inverse of the tour length. This update reinforces the selection of edges that contribute to shorter tours.\n",
    "\n",
    "4. **Evaporation of Pheromones:** To prevent the algorithm from getting stuck in suboptimal solutions, a pheromone evaporation process is applied. The pheromone levels on all edges are reduced based on an evaporation rate. This ensures exploration of a wider solution space and promotes diversity among ant solutions.\n",
    "\n",
    "## Results and Convergence\n",
    "The algorithm iterates through a specified number of iterations, with each iteration improving the tour quality. The best tour found so far is updated whenever an ant achieves a shorter tour than the current best. The algorithm terminates if the target tour length is reached or when the maximum number of iterations is reached.\n",
    "\n",
    "## Conclusion\n",
    "The implementation of the Ant Colony Algorithm for the TSP demonstrates its effectiveness in finding near-optimal solutions. The inclusion of metaheuristic parameters, such as cost and distance, plays a crucial role in shaping the algorithm's behavior. Depending on the relative importance of these parameters, the algorithm may exhibit a more greedy-like behavior, favoring shorter paths. However, the incorporation of pheromone levels still allows for some level of exploration in the solution space. By leveraging these metaheuristic parameters and incorporating pheromones, the algorithm efficiently explores the solution space and converges to shorter tours.\n",
    "\n",
    "Please note that further analysis and optimization techniques can be applied to fine-tune the metaheuristic parameters and improve the performance and efficiency of the algorithm.\n"
   ]
  },
  {
   "cell_type": "code",
   "execution_count": 2,
   "metadata": {},
   "outputs": [],
   "source": [
    "import random\n",
    "import math"
   ]
  },
  {
   "cell_type": "code",
   "execution_count": 3,
   "metadata": {},
   "outputs": [
    {
     "data": {
      "text/plain": [
       "1001"
      ]
     },
     "execution_count": 3,
     "metadata": {},
     "output_type": "execute_result"
    }
   ],
   "source": [
    "def openFile(file):\n",
    "    with open(file) as f:\n",
    "        lines=f.read().split('\\n')[:-1]\n",
    "        points=[]\n",
    "        flag=False\n",
    "        for line in lines:\n",
    "            if(line=='EOF'):break\n",
    "            if(flag):\n",
    "                points.append(list(map(float,line.split()[1:])))\n",
    "            if(line=='NODE_COORD_SECTION'):\n",
    "                flag=True\n",
    "    return [(points[i],i) for i in range(len(points))]\n"
   ]
  },
  {
   "cell_type": "code",
   "execution_count": 4,
   "metadata": {},
   "outputs": [],
   "source": [
    "class Ant:\n",
    "    def __init__(self,cities) -> None:\n",
    "        self.costs=0\n",
    "        self.traveled=[random.randint(0,len(cities)-1)]\n",
    "        \n",
    "    def addCity(self,city,distances):\n",
    "        self.traveled.append(city)\n",
    "        self.costs+=distances[self.traveled[-2]][self.traveled[-1]]\n",
    "\n",
    "    def all(self,cities):\n",
    "        return len(cities)==len(self.traveled)\n",
    "        \n",
    "    def putPheromone(self,pheromones):\n",
    "        for i in range(len(self.traveled)-1):\n",
    "            pheromones[i][i+1]+=1/self.costs\n",
    "            pheromones[i+1][i]+=1/self.costs"
   ]
  },
  {
   "cell_type": "code",
   "execution_count": 5,
   "metadata": {},
   "outputs": [],
   "source": [
    "def calculate_distances(points):\n",
    "    distances=[[0 for _ in range(len(points))] for _ in range(len(points))]\n",
    "    for i in range(len(points)-1):\n",
    "        for j in range(i+1,len(points)):\n",
    "            distance=math.dist(points[i][0],points[j][0])\n",
    "            distances[i][j]=distance\n",
    "            distances[j][i]=distance\n",
    "    return distances"
   ]
  },
  {
   "cell_type": "code",
   "execution_count": 6,
   "metadata": {},
   "outputs": [],
   "source": [
    "def calculateFitness(ant:Ant,city,pheromones,distances,alpha,beta):\n",
    "    if(ant.traveled[-1]==city or city in ant.traveled):\n",
    "        return 0\n",
    "    return  pheromones[ant.traveled[-1]][city]**alpha / (distances[ant.traveled[-1]][city])**beta"
   ]
  },
  {
   "cell_type": "code",
   "execution_count": 7,
   "metadata": {},
   "outputs": [],
   "source": [
    "def ant_colony(points,distances,antNumber,alpha ,beta, evaporation_rate,iterationNumber,target)->Ant:\n",
    "    pheromones=[[0.1 for _ in range(len(points))] for _ in range(len(points))]\n",
    "    for _ in range(iterationNumber):\n",
    "        ants=[Ant(points) for _ in range(antNumber)]\n",
    "        for ant in ants:\n",
    "            ant:Ant         \n",
    "            while not ant.all(points):\n",
    "                next_city=random.choices(points,weights=[calculateFitness(ant,city,pheromones,distances,alpha,beta) for city in range(len(points))])[0]\n",
    "                ant.addCity(next_city[1],distances)\n",
    "            print(ant.costs)\n",
    "            if(ant.costs<=target):\n",
    "                return ant\n",
    "        for ant in ants:\n",
    "            ant:Ant  \n",
    "            ant.putPheromone(pheromones)\n",
    "        for i in range(len(points)):\n",
    "            for j in range(len(points)):\n",
    "                pheromones[i][j]*=(1-evaporation_rate)"
   ]
  },
  {
   "cell_type": "code",
   "execution_count": 8,
   "metadata": {},
   "outputs": [],
   "source": [
    "points1=openFile('./gr229.tsp')\n",
    "distances1=calculate_distances(points1)\n",
    "points2=openFile('./pr1002.tsp')\n",
    "distances2=calculate_distances(points2)"
   ]
  },
  {
   "cell_type": "code",
   "execution_count": 11,
   "metadata": {},
   "outputs": [
    {
     "name": "stdout",
     "output_type": "stream",
     "text": [
      "2466.473390348702\n"
     ]
    }
   ],
   "source": [
    "res1=ant_colony(points1,distances1,100,1,4,0.4,100,2800)"
   ]
  },
  {
   "cell_type": "code",
   "execution_count": 10,
   "metadata": {},
   "outputs": [
    {
     "name": "stdout",
     "output_type": "stream",
     "text": [
      "486372.20546703966\n"
     ]
    }
   ],
   "source": [
    "res2=ant_colony(points2,distances2,10,1,4,0.4,100,1600000)"
   ]
  }
 ],
 "metadata": {
  "kernelspec": {
   "display_name": "Python 3",
   "language": "python",
   "name": "python3"
  },
  "language_info": {
   "codemirror_mode": {
    "name": "ipython",
    "version": 3
   },
   "file_extension": ".py",
   "mimetype": "text/x-python",
   "name": "python",
   "nbconvert_exporter": "python",
   "pygments_lexer": "ipython3",
   "version": "3.9.6"
  },
  "orig_nbformat": 4
 },
 "nbformat": 4,
 "nbformat_minor": 2
}
